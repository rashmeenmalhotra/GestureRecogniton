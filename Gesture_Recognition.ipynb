{
 "cells": [
  {
   "cell_type": "markdown",
   "metadata": {},
   "source": [
    "# Gesture Recognition\n",
    "In this group project, you are going to build a 3D Conv model that will be able to predict the 5 gestures correctly. Please import the following libraries to get started. Once you have completed the code you can download the notebook for making a submission."
   ]
  },
  {
   "cell_type": "code",
   "execution_count": 1,
   "metadata": {},
   "outputs": [],
   "source": [
    "import numpy as np\n",
    "import os\n",
    "from imageio import imread\n",
    "from skimage.transform import resize\n",
    "import datetime\n",
    "import imageio"
   ]
  },
  {
   "cell_type": "markdown",
   "metadata": {},
   "source": [
    "We set the random seed so that the results don't vary drastically."
   ]
  },
  {
   "cell_type": "code",
   "execution_count": 2,
   "metadata": {},
   "outputs": [],
   "source": [
    "np.random.seed(30)\n",
    "import random as rn\n",
    "rn.seed(30)\n",
    "from tensorflow import keras\n",
    "import tensorflow as tf\n",
    "tf.random.set_seed(30)"
   ]
  },
  {
   "cell_type": "markdown",
   "metadata": {},
   "source": [
    "In this block, you read the folder names for training and validation. You also set the `batch_size` here. Note that you set the batch size in such a way that you are able to use the GPU in full capacity. You keep increasing the batch size until the machine throws an error."
   ]
  },
  {
   "cell_type": "markdown",
   "metadata": {},
   "source": [
    "**data path: /home/datasets/Project_data**"
   ]
  },
  {
   "cell_type": "code",
   "execution_count": 3,
   "metadata": {},
   "outputs": [],
   "source": [
    "train_doc = np.random.permutation(open('/home/datasets/Project_data/train.csv').readlines())\n",
    "val_doc = np.random.permutation(open('/home/datasets/Project_data/val.csv').readlines())\n",
    "batch_size = 51"
   ]
  },
  {
   "cell_type": "markdown",
   "metadata": {},
   "source": [
    "## Generator\n",
    "This is one of the most important part of the code. The overall structure of the generator has been given. In the generator, you are going to preprocess the images as you have images of 2 different dimensions as well as create a batch of video frames. You have to experiment with `img_idx`, `y`,`z` and normalization such that you get high accuracy."
   ]
  },
  {
   "cell_type": "code",
   "execution_count": 4,
   "metadata": {},
   "outputs": [],
   "source": [
    "def generator(source_path, folder_list, batch_size):\n",
    "    print( 'Source path = ', source_path, '; batch size =', batch_size)\n",
    "    img_idx = [11,12,13,14,15,16,17,18,19,20,21,22,23,24,25,26,27,28]#create a list of image numbers you want to use for a particular video\n",
    "    while True:\n",
    "        t = np.random.permutation(folder_list)\n",
    "        num_batches = len(source_path)//batch_size # calculate the number of batches\n",
    "        for batch in range(num_batches): # we iterate over the number of batches\n",
    "            batch_data = np.zeros((batch_size,18,100,100,3)) # x is the number of images you use for each video, (y,z) is the final size of the input images and 3 is the number of channels RGB\n",
    "            batch_labels = np.zeros((batch_size,5)) # batch_labels is the one hot representation of the output\n",
    "            for folder in range(batch_size): # iterate over the batch_size\n",
    "                imgs = os.listdir(source_path+'/'+ t[folder + (batch*batch_size)].split(';')[0]) # read all the images in the folder\n",
    "                for idx,item in enumerate(img_idx): #  Iterate iver the frames/images of a folder to read them in\n",
    "                    image = imread(source_path+'/'+ t[folder + (batch*batch_size)].strip().split(';')[0]+'/'+imgs[item]).astype(np.float32)\n",
    "                    \n",
    "                    # Cropped image of above dimension \n",
    "                    image = image.resize(100, 100)\n",
    "                    \n",
    "                    #crop the images and resize them. Note that the images are of 2 different shape \n",
    "                    #and the conv3D will throw error if the inputs in a batch have different shapes\n",
    "                    \n",
    "                    batch_data[folder,idx,:,:,0] /= 255\n",
    "                    batch_data[folder,idx,:,:,1] /= 255 #normalise and feed in the image\n",
    "                    batch_data[folder,idx,:,:,2] /= 255 #normalise and feed in the image\n",
    "                    \n",
    "                batch_labels[folder, int(t[folder + (batch*batch_size)].strip().split(';')[2])] = 1\n",
    "            yield batch_data, batch_labels #you yield the batch_data and the batch_labels, remember what does yield do\n",
    "\n",
    "        \n",
    "        # write the code for the remaining data points which are left after full batches\n",
    "        if((len(source_path)%batch_size)//2==0):\n",
    "            batch_size = 2\n",
    "        else:\n",
    "            batch_size = 1\n",
    "        num_batches = len(source_path)%batch_size # calculate the number of batches\n",
    "        for batch in range(num_batches): # we iterate over the number of batches\n",
    "            batch_data = np.zeros((batch_size,18,100,100,3)) # x is the number of images you use for each video, (y,z) is the final size of the input images and 3 is the number of channels RGB\n",
    "            batch_labels = np.zeros((batch_size,5)) # batch_labels is the one hot representation of the output\n",
    "            for folder in range(batch_size): # iterate over the batch_size\n",
    "                imgs = os.listdir(source_path+'/'+ t[folder + (batch*batch_size)].split(';')[0]) # read all the images in the folder\n",
    "                for idx,item in enumerate(img_idx): #  Iterate iver the frames/images of a folder to read them in\n",
    "                    image = imageio.imread(source_path+'/'+ t[folder + (batch*batch_size)].strip().split(';')[0]+'/'+imgs[item]).astype(np.float32)\n",
    "                    \n",
    "                    # Cropped image of above dimension \n",
    "                    image = image.resize(100, 100)\n",
    "                    \n",
    "                    #crop the images and resize them. Note that the images are of 2 different shape \n",
    "                    #and the conv3D will throw error if the inputs in a batch have different shapes\n",
    "                    \n",
    "                    batch_data[folder,idx,:,:,0] /= 255\n",
    "                    batch_data[folder,idx,:,:,1] /= 255 #normalise and feed in the image\n",
    "                    batch_data[folder,idx,:,:,2] /= 255 #normalise and feed in the image\n",
    "                    \n",
    "                batch_labels[folder, int(t[folder + (batch*batch_size)].strip().split(';')[2])] = 1\n",
    "            yield batch_data, batch_labels #you yield the batch_data and the batch_labels, remember what does yield do     "
   ]
  },
  {
   "cell_type": "markdown",
   "metadata": {},
   "source": [
    "Note here that a video is represented above in the generator as (number of images, height, width, number of channels). Take this into consideration while creating the model architecture."
   ]
  },
  {
   "cell_type": "code",
   "execution_count": 5,
   "metadata": {},
   "outputs": [
    {
     "name": "stdout",
     "output_type": "stream",
     "text": [
      "# training sequences = 663\n",
      "# validation sequences = 100\n",
      "# epochs = 15\n"
     ]
    }
   ],
   "source": [
    "curr_dt_time = datetime.datetime.now()\n",
    "train_path = '/home/datasets/Project_data/train'\n",
    "val_path = '/home/datasets/Project_data/val'\n",
    "num_train_sequences = len(train_doc)\n",
    "print('# training sequences =', num_train_sequences)\n",
    "num_val_sequences = len(val_doc)\n",
    "print('# validation sequences =', num_val_sequences)\n",
    "num_epochs = 15\n",
    "print ('# epochs =', num_epochs)"
   ]
  },
  {
   "cell_type": "markdown",
   "metadata": {},
   "source": [
    "## Model\n",
    "Here you make the model using different functionalities that Keras provides. Remember to use `Conv3D` and `MaxPooling3D` and not `Conv2D` and `Maxpooling2D` for a 3D convolution model. You would want to use `TimeDistributed` while building a Conv2D + RNN model. Also remember that the last layer is the softmax. Design the network in such a way that the model is able to give good accuracy on the least number of parameters so that it can fit in the memory of the webcam."
   ]
  },
  {
   "cell_type": "code",
   "execution_count": 6,
   "metadata": {},
   "outputs": [
    {
     "name": "stderr",
     "output_type": "stream",
     "text": [
      "2022-07-09 10:57:50.591927: W tensorflow/stream_executor/platform/default/dso_loader.cc:65] Could not load dynamic library 'libcuda.so.1'; dlerror: libcuda.so.1: cannot open shared object file: No such file or directory; LD_LIBRARY_PATH: /usr/local/cuda/extras/CUPTI/lib64:/usr/local/cuda/compat/lib:/usr/local/nvidia/lib:/usr/local/nvidia/lib64\n",
      "2022-07-09 10:57:50.591967: W tensorflow/stream_executor/cuda/cuda_driver.cc:269] failed call to cuInit: UNKNOWN ERROR (303)\n",
      "2022-07-09 10:57:50.591989: I tensorflow/stream_executor/cuda/cuda_diagnostics.cc:163] no NVIDIA GPU device is present: /dev/nvidia0 does not exist\n"
     ]
    }
   ],
   "source": [
    "from tensorflow.keras.models import Sequential\n",
    "from tensorflow.keras.layers import Dense, GRU, Dropout, Flatten, BatchNormalization, Activation, Conv3D, MaxPooling3D\n",
    "from tensorflow.keras.callbacks import ModelCheckpoint, ReduceLROnPlateau\n",
    "from tensorflow.keras import optimizers\n",
    "\n",
    "#write your model here\n",
    "Input_shape = (18, 100, 100, 3)\n",
    "model = Sequential()\n",
    "model.add(Conv3D(32, (3,3,3), padding='same',\n",
    "                 input_shape=Input_shape))\n",
    "#model.add(Conv3D(32, kernel_size=(3, 3, 3), activation='relu', kernel_initializer='he_uniform', input_shape=sample_shape))\n",
    "model.add(Activation('relu'))\n",
    "model.add(BatchNormalization())\n",
    "model.add(Conv3D(32, (3, 3,3)))\n",
    "model.add(Activation('relu'))\n",
    "model.add(BatchNormalization())\n",
    "model.add(MaxPooling3D(pool_size=(2, 2,2)))\n",
    "model.add(Dropout(0.5))\n",
    "\n",
    "model.add(Conv3D(64, (3, 3,3), padding='same'))\n",
    "model.add(Activation('relu'))\n",
    "model.add(BatchNormalization())\n",
    "model.add(Conv3D(64, (3, 3,3)))\n",
    "model.add(Activation('relu'))\n",
    "model.add(BatchNormalization())\n",
    "model.add(MaxPooling3D(pool_size=(2, 2,2)))\n",
    "model.add(Dropout(0.5))\n",
    "model.add(Flatten())\n",
    "model.add(Dense(512))\n",
    "model.add(Activation('relu'))\n",
    "model.add(Dropout(0.5))\n",
    "model.add(Dense(5))\n",
    "model.add(Activation('softmax'))"
   ]
  },
  {
   "cell_type": "markdown",
   "metadata": {},
   "source": [
    "Now that you have written the model, the next step is to `compile` the model. When you print the `summary` of the model, you'll see the total number of parameters you have to train."
   ]
  },
  {
   "cell_type": "code",
   "execution_count": 7,
   "metadata": {
    "scrolled": true
   },
   "outputs": [
    {
     "name": "stdout",
     "output_type": "stream",
     "text": [
      "Model: \"sequential\"\n",
      "_________________________________________________________________\n",
      " Layer (type)                Output Shape              Param #   \n",
      "=================================================================\n",
      " conv3d (Conv3D)             (None, 18, 100, 100, 32)  2624      \n",
      "                                                                 \n",
      " activation (Activation)     (None, 18, 100, 100, 32)  0         \n",
      "                                                                 \n",
      " batch_normalization (BatchN  (None, 18, 100, 100, 32)  128      \n",
      " ormalization)                                                   \n",
      "                                                                 \n",
      " conv3d_1 (Conv3D)           (None, 16, 98, 98, 32)    27680     \n",
      "                                                                 \n",
      " activation_1 (Activation)   (None, 16, 98, 98, 32)    0         \n",
      "                                                                 \n",
      " batch_normalization_1 (Batc  (None, 16, 98, 98, 32)   128       \n",
      " hNormalization)                                                 \n",
      "                                                                 \n",
      " max_pooling3d (MaxPooling3D  (None, 8, 49, 49, 32)    0         \n",
      " )                                                               \n",
      "                                                                 \n",
      " dropout (Dropout)           (None, 8, 49, 49, 32)     0         \n",
      "                                                                 \n",
      " conv3d_2 (Conv3D)           (None, 8, 49, 49, 64)     55360     \n",
      "                                                                 \n",
      " activation_2 (Activation)   (None, 8, 49, 49, 64)     0         \n",
      "                                                                 \n",
      " batch_normalization_2 (Batc  (None, 8, 49, 49, 64)    256       \n",
      " hNormalization)                                                 \n",
      "                                                                 \n",
      " conv3d_3 (Conv3D)           (None, 6, 47, 47, 64)     110656    \n",
      "                                                                 \n",
      " activation_3 (Activation)   (None, 6, 47, 47, 64)     0         \n",
      "                                                                 \n",
      " batch_normalization_3 (Batc  (None, 6, 47, 47, 64)    256       \n",
      " hNormalization)                                                 \n",
      "                                                                 \n",
      " max_pooling3d_1 (MaxPooling  (None, 3, 23, 23, 64)    0         \n",
      " 3D)                                                             \n",
      "                                                                 \n",
      " dropout_1 (Dropout)         (None, 3, 23, 23, 64)     0         \n",
      "                                                                 \n",
      " flatten (Flatten)           (None, 101568)            0         \n",
      "                                                                 \n",
      " dense (Dense)               (None, 512)               52003328  \n",
      "                                                                 \n",
      " activation_4 (Activation)   (None, 512)               0         \n",
      "                                                                 \n",
      " dropout_2 (Dropout)         (None, 512)               0         \n",
      "                                                                 \n",
      " dense_1 (Dense)             (None, 5)                 2565      \n",
      "                                                                 \n",
      " activation_5 (Activation)   (None, 5)                 0         \n",
      "                                                                 \n",
      "=================================================================\n",
      "Total params: 52,202,981\n",
      "Trainable params: 52,202,597\n",
      "Non-trainable params: 384\n",
      "_________________________________________________________________\n",
      "None\n"
     ]
    },
    {
     "name": "stderr",
     "output_type": "stream",
     "text": [
      "/usr/local/lib/python3.8/dist-packages/keras/optimizer_v2/adam.py:105: UserWarning: The `lr` argument is deprecated, use `learning_rate` instead.\n",
      "  super(Adam, self).__init__(name, **kwargs)\n"
     ]
    }
   ],
   "source": [
    "optimiser = keras.optimizers.Adam(lr=0.001)\n",
    "model.compile(optimizer=optimiser, loss='categorical_crossentropy', metrics=['categorical_accuracy'])\n",
    "print (model.summary())"
   ]
  },
  {
   "cell_type": "markdown",
   "metadata": {},
   "source": [
    "Let us create the `train_generator` and the `val_generator` which will be used in `.fit_generator`."
   ]
  },
  {
   "cell_type": "code",
   "execution_count": 8,
   "metadata": {},
   "outputs": [],
   "source": [
    "train_generator = generator(train_path, train_doc, batch_size)\n",
    "val_generator = generator(val_path, val_doc, batch_size)"
   ]
  },
  {
   "cell_type": "code",
   "execution_count": 9,
   "metadata": {},
   "outputs": [
    {
     "name": "stdout",
     "output_type": "stream",
     "text": [
      "WARNING:tensorflow:`period` argument is deprecated. Please use `save_freq` to specify the frequency in number of batches seen.\n",
      "WARNING:tensorflow:`epsilon` argument is deprecated and will be removed, use `min_delta` instead.\n"
     ]
    }
   ],
   "source": [
    "model_name = 'model_init' + '_' + str(curr_dt_time).replace(' ','').replace(':','_') + '/'\n",
    "    \n",
    "if not os.path.exists(model_name):\n",
    "    os.mkdir(model_name)\n",
    "        \n",
    "filepath = model_name + 'model-{epoch:05d}-{loss:.5f}-{categorical_accuracy:.5f}-{val_loss:.5f}-{val_categorical_accuracy:.5f}.h5'\n",
    "\n",
    "checkpoint = ModelCheckpoint(filepath, monitor='val_loss', verbose=1, save_best_only=False, save_weights_only=False, mode='auto',period =17)\n",
    "\n",
    "LR = ReduceLROnPlateau(monitor = \"val_loss\", factor = 0.1, patience = 10,verbose = 0, mode = \"auto\", epsilon = 1e-04, cooldown = 0, min_lr = 0)\n",
    "callbacks_list = [checkpoint, LR]"
   ]
  },
  {
   "cell_type": "markdown",
   "metadata": {},
   "source": [
    "The `steps_per_epoch` and `validation_steps` are used by `fit` method to decide the number of next() calls it need to make."
   ]
  },
  {
   "cell_type": "code",
   "execution_count": 10,
   "metadata": {},
   "outputs": [],
   "source": [
    "if (num_train_sequences%batch_size) == 0:\n",
    "    steps_per_epoch = int(num_train_sequences/batch_size)\n",
    "else:\n",
    "    steps_per_epoch = (num_train_sequences//batch_size) + 1\n",
    "\n",
    "if (num_val_sequences%batch_size) == 0:\n",
    "    validation_steps = int(num_val_sequences/batch_size)\n",
    "else:\n",
    "    validation_steps = (num_val_sequences//batch_size) + 1"
   ]
  },
  {
   "cell_type": "markdown",
   "metadata": {},
   "source": [
    "Let us now fit the model. This will start training the model and with the help of the checkpoints, you'll be able to save the model at the end of each epoch."
   ]
  },
  {
   "cell_type": "code",
   "execution_count": 11,
   "metadata": {},
   "outputs": [
    {
     "name": "stdout",
     "output_type": "stream",
     "text": [
      "Source path =  /home/datasets/Project_data/train ; batch size = 51\n",
      "Epoch 1/15\n",
      "13/13 [==============================] - ETA: 0s - loss: 1.6093 - categorical_accuracy: 0.3077Source path =  /home/datasets/Project_data/val ; batch size = 51\n",
      "13/13 [==============================] - 49s 4s/step - loss: 1.6093 - categorical_accuracy: 0.3077 - val_loss: 1.6107 - val_categorical_accuracy: 0.0000e+00 - lr: 0.0010\n",
      "Epoch 2/15\n",
      "13/13 [==============================] - 47s 4s/step - loss: 1.6078 - categorical_accuracy: 0.2308 - val_loss: 1.6153 - val_categorical_accuracy: 0.0000e+00 - lr: 0.0010\n",
      "Epoch 3/15\n",
      "13/13 [==============================] - 70s 6s/step - loss: 1.6081 - categorical_accuracy: 0.2105 - val_loss: 1.6099 - val_categorical_accuracy: 0.0000e+00 - lr: 0.0010\n",
      "Epoch 4/15\n",
      "13/13 [==============================] - 96s 7s/step - loss: 1.6097 - categorical_accuracy: 0.1923 - val_loss: 1.6040 - val_categorical_accuracy: 0.0000e+00 - lr: 0.0010\n",
      "Epoch 5/15\n",
      "13/13 [==============================] - 96s 7s/step - loss: 1.6116 - categorical_accuracy: 0.0385 - val_loss: 1.6007 - val_categorical_accuracy: 1.0000 - lr: 0.0010\n",
      "Epoch 6/15\n",
      "13/13 [==============================] - 95s 7s/step - loss: 1.6067 - categorical_accuracy: 0.1923 - val_loss: 1.5994 - val_categorical_accuracy: 0.5000 - lr: 0.0010\n",
      "Epoch 7/15\n",
      "13/13 [==============================] - 96s 7s/step - loss: 1.6114 - categorical_accuracy: 0.1923 - val_loss: 1.6199 - val_categorical_accuracy: 0.0000e+00 - lr: 0.0010\n",
      "Epoch 8/15\n",
      "13/13 [==============================] - 101s 8s/step - loss: 1.6099 - categorical_accuracy: 0.1538 - val_loss: 1.5989 - val_categorical_accuracy: 0.5000 - lr: 0.0010\n",
      "Epoch 9/15\n",
      "13/13 [==============================] - 102s 8s/step - loss: 1.6099 - categorical_accuracy: 0.2308 - val_loss: 1.6021 - val_categorical_accuracy: 0.0000e+00 - lr: 0.0010\n",
      "Epoch 10/15\n",
      "13/13 [==============================] - 101s 8s/step - loss: 1.6092 - categorical_accuracy: 0.1923 - val_loss: 1.5988 - val_categorical_accuracy: 0.0000e+00 - lr: 0.0010\n",
      "Epoch 11/15\n",
      "13/13 [==============================] - 102s 8s/step - loss: 1.6091 - categorical_accuracy: 0.2308 - val_loss: 1.6140 - val_categorical_accuracy: 0.3333 - lr: 0.0010\n",
      "Epoch 12/15\n",
      "13/13 [==============================] - 103s 8s/step - loss: 1.6052 - categorical_accuracy: 0.2692 - val_loss: 1.6083 - val_categorical_accuracy: 0.0000e+00 - lr: 0.0010\n",
      "Epoch 13/15\n",
      "13/13 [==============================] - 103s 8s/step - loss: 1.6090 - categorical_accuracy: 0.1538 - val_loss: 1.6035 - val_categorical_accuracy: 0.2500 - lr: 0.0010\n",
      "Epoch 14/15\n",
      "13/13 [==============================] - 103s 8s/step - loss: 1.6109 - categorical_accuracy: 0.2308 - val_loss: 1.6101 - val_categorical_accuracy: 0.0000e+00 - lr: 0.0010\n",
      "Epoch 15/15\n",
      "13/13 [==============================] - 104s 8s/step - loss: 1.6057 - categorical_accuracy: 0.2308 - val_loss: 1.6148 - val_categorical_accuracy: 0.2500 - lr: 0.0010\n"
     ]
    },
    {
     "data": {
      "text/plain": [
       "<keras.callbacks.History at 0x7fd3b92cf310>"
      ]
     },
     "execution_count": 11,
     "metadata": {},
     "output_type": "execute_result"
    }
   ],
   "source": [
    "model.fit(train_generator, steps_per_epoch=steps_per_epoch, epochs=num_epochs, verbose=1, \n",
    "                    callbacks=callbacks_list, validation_data=val_generator, \n",
    "                    validation_steps=validation_steps, class_weight=None, workers=1, initial_epoch=0)"
   ]
  },
  {
   "cell_type": "markdown",
   "metadata": {},
   "source": [
    "### Model CONV2D + LSTM"
   ]
  },
  {
   "cell_type": "code",
   "execution_count": 12,
   "metadata": {},
   "outputs": [
    {
     "name": "stdout",
     "output_type": "stream",
     "text": [
      "Model: \"sequential_1\"\n",
      "_________________________________________________________________\n",
      " Layer (type)                Output Shape              Param #   \n",
      "=================================================================\n",
      " time_distributed (TimeDistr  (None, 18, 50, 50, 32)   4736      \n",
      " ibuted)                                                         \n",
      "                                                                 \n",
      " time_distributed_1 (TimeDis  (None, 18, 48, 48, 32)   9248      \n",
      " tributed)                                                       \n",
      "                                                                 \n",
      " time_distributed_2 (TimeDis  (None, 18, 24, 24, 32)   0         \n",
      " tributed)                                                       \n",
      "                                                                 \n",
      " time_distributed_3 (TimeDis  (None, 18, 24, 24, 64)   18496     \n",
      " tributed)                                                       \n",
      "                                                                 \n",
      " time_distributed_4 (TimeDis  (None, 18, 24, 24, 64)   36928     \n",
      " tributed)                                                       \n",
      "                                                                 \n",
      " time_distributed_5 (TimeDis  (None, 18, 12, 12, 64)   0         \n",
      " tributed)                                                       \n",
      "                                                                 \n",
      " time_distributed_6 (TimeDis  (None, 18, 12, 12, 128)  73856     \n",
      " tributed)                                                       \n",
      "                                                                 \n",
      " time_distributed_7 (TimeDis  (None, 18, 12, 12, 128)  147584    \n",
      " tributed)                                                       \n",
      "                                                                 \n",
      " time_distributed_8 (TimeDis  (None, 18, 6, 6, 128)    0         \n",
      " tributed)                                                       \n",
      "                                                                 \n",
      " time_distributed_9 (TimeDis  (None, 18, 6, 6, 256)    295168    \n",
      " tributed)                                                       \n",
      "                                                                 \n",
      " time_distributed_10 (TimeDi  (None, 18, 6, 6, 256)    590080    \n",
      " stributed)                                                      \n",
      "                                                                 \n",
      " time_distributed_11 (TimeDi  (None, 18, 3, 3, 256)    0         \n",
      " stributed)                                                      \n",
      "                                                                 \n",
      " time_distributed_12 (TimeDi  (None, 18, 3, 3, 512)    1180160   \n",
      " stributed)                                                      \n",
      "                                                                 \n",
      " time_distributed_13 (TimeDi  (None, 18, 3, 3, 512)    2359808   \n",
      " stributed)                                                      \n",
      "                                                                 \n",
      " time_distributed_14 (TimeDi  (None, 18, 1, 1, 512)    0         \n",
      " stributed)                                                      \n",
      "                                                                 \n",
      " time_distributed_15 (TimeDi  (None, 18, 512)          0         \n",
      " stributed)                                                      \n",
      "                                                                 \n",
      " dropout_3 (Dropout)         (None, 18, 512)           0         \n",
      "                                                                 \n",
      " lstm (LSTM)                 (None, 512)               2099200   \n",
      "                                                                 \n",
      " dense_2 (Dense)             (None, 5)                 2565      \n",
      "                                                                 \n",
      "=================================================================\n",
      "Total params: 6,817,829\n",
      "Trainable params: 6,817,829\n",
      "Non-trainable params: 0\n",
      "_________________________________________________________________\n"
     ]
    }
   ],
   "source": [
    "#write your model here\n",
    "from keras.models import Sequential, Model\n",
    "from keras.layers import Conv2D,MaxPooling2D\n",
    "from keras.callbacks import ModelCheckpoint, ReduceLROnPlateau\n",
    "from keras.layers import Dense, GRU, Flatten, TimeDistributed, Flatten, BatchNormalization, Activation, Dropout, LSTM, Bidirectional\n",
    "\n",
    "\n",
    "Input_shape_1 = (18, 100, 100, 3)\n",
    "model = Sequential()\n",
    "model.add(TimeDistributed(Conv2D(32, (7, 7), strides=(2, 2), activation='relu', padding='same'), input_shape=Input_shape_1))\n",
    "model.add(TimeDistributed(Conv2D(32, (3,3), kernel_initializer=\"he_normal\", activation='relu')))\n",
    "model.add(TimeDistributed(MaxPooling2D((2, 2), strides=(2, 2))))\n",
    " \n",
    "model.add(TimeDistributed(Conv2D(64, (3,3), padding='same', activation='relu')))\n",
    "model.add(TimeDistributed(Conv2D(64, (3,3), padding='same', activation='relu')))\n",
    "model.add(TimeDistributed(MaxPooling2D((2, 2), strides=(2, 2))))\n",
    " \n",
    "model.add(TimeDistributed(Conv2D(128, (3,3), padding='same', activation='relu')))\n",
    "model.add(TimeDistributed(Conv2D(128, (3,3), padding='same', activation='relu')))\n",
    "model.add(TimeDistributed(MaxPooling2D((2, 2), strides=(2, 2))))\n",
    " \n",
    "model.add(TimeDistributed(Conv2D(256, (3,3), padding='same', activation='relu')))\n",
    "model.add(TimeDistributed(Conv2D(256, (3,3), padding='same', activation='relu')))\n",
    "model.add(TimeDistributed(MaxPooling2D((2, 2), strides=(2, 2))))\n",
    " \n",
    "model.add(TimeDistributed(Conv2D(512, (3,3), padding='same', activation='relu')))\n",
    "model.add(TimeDistributed(Conv2D(512, (3,3), padding='same', activation='relu')))\n",
    "model.add(TimeDistributed(MaxPooling2D((2, 2), strides=(2, 2))))\n",
    " \n",
    "model.add(TimeDistributed(Flatten()))\n",
    " \n",
    "model.add(Dropout(0.5))\n",
    "model.add(LSTM(512, return_sequences=False, dropout=0.5))\n",
    "model.add(Dense(5, activation='softmax'))\n",
    "model.summary()"
   ]
  },
  {
   "cell_type": "code",
   "execution_count": 13,
   "metadata": {},
   "outputs": [
    {
     "name": "stdout",
     "output_type": "stream",
     "text": [
      "Model: \"sequential_1\"\n",
      "_________________________________________________________________\n",
      " Layer (type)                Output Shape              Param #   \n",
      "=================================================================\n",
      " time_distributed (TimeDistr  (None, 18, 50, 50, 32)   4736      \n",
      " ibuted)                                                         \n",
      "                                                                 \n",
      " time_distributed_1 (TimeDis  (None, 18, 48, 48, 32)   9248      \n",
      " tributed)                                                       \n",
      "                                                                 \n",
      " time_distributed_2 (TimeDis  (None, 18, 24, 24, 32)   0         \n",
      " tributed)                                                       \n",
      "                                                                 \n",
      " time_distributed_3 (TimeDis  (None, 18, 24, 24, 64)   18496     \n",
      " tributed)                                                       \n",
      "                                                                 \n",
      " time_distributed_4 (TimeDis  (None, 18, 24, 24, 64)   36928     \n",
      " tributed)                                                       \n",
      "                                                                 \n",
      " time_distributed_5 (TimeDis  (None, 18, 12, 12, 64)   0         \n",
      " tributed)                                                       \n",
      "                                                                 \n",
      " time_distributed_6 (TimeDis  (None, 18, 12, 12, 128)  73856     \n",
      " tributed)                                                       \n",
      "                                                                 \n",
      " time_distributed_7 (TimeDis  (None, 18, 12, 12, 128)  147584    \n",
      " tributed)                                                       \n",
      "                                                                 \n",
      " time_distributed_8 (TimeDis  (None, 18, 6, 6, 128)    0         \n",
      " tributed)                                                       \n",
      "                                                                 \n",
      " time_distributed_9 (TimeDis  (None, 18, 6, 6, 256)    295168    \n",
      " tributed)                                                       \n",
      "                                                                 \n",
      " time_distributed_10 (TimeDi  (None, 18, 6, 6, 256)    590080    \n",
      " stributed)                                                      \n",
      "                                                                 \n",
      " time_distributed_11 (TimeDi  (None, 18, 3, 3, 256)    0         \n",
      " stributed)                                                      \n",
      "                                                                 \n",
      " time_distributed_12 (TimeDi  (None, 18, 3, 3, 512)    1180160   \n",
      " stributed)                                                      \n",
      "                                                                 \n",
      " time_distributed_13 (TimeDi  (None, 18, 3, 3, 512)    2359808   \n",
      " stributed)                                                      \n",
      "                                                                 \n",
      " time_distributed_14 (TimeDi  (None, 18, 1, 1, 512)    0         \n",
      " stributed)                                                      \n",
      "                                                                 \n",
      " time_distributed_15 (TimeDi  (None, 18, 512)          0         \n",
      " stributed)                                                      \n",
      "                                                                 \n",
      " dropout_3 (Dropout)         (None, 18, 512)           0         \n",
      "                                                                 \n",
      " lstm (LSTM)                 (None, 512)               2099200   \n",
      "                                                                 \n",
      " dense_2 (Dense)             (None, 5)                 2565      \n",
      "                                                                 \n",
      "=================================================================\n",
      "Total params: 6,817,829\n",
      "Trainable params: 6,817,829\n",
      "Non-trainable params: 0\n",
      "_________________________________________________________________\n",
      "None\n"
     ]
    }
   ],
   "source": [
    "#optimiser = Keras.optimizers.Adam(lr=0.001)\n",
    "model.compile(optimizer='sgd', loss='categorical_crossentropy', metrics=['categorical_accuracy'])\n",
    "print (model.summary())"
   ]
  },
  {
   "cell_type": "code",
   "execution_count": 14,
   "metadata": {},
   "outputs": [],
   "source": [
    "train_generator = generator(train_path, train_doc, batch_size)\n",
    "val_generator = generator(val_path, val_doc, batch_size)"
   ]
  },
  {
   "cell_type": "code",
   "execution_count": 15,
   "metadata": {},
   "outputs": [
    {
     "name": "stdout",
     "output_type": "stream",
     "text": [
      "WARNING:tensorflow:`period` argument is deprecated. Please use `save_freq` to specify the frequency in number of batches seen.\n",
      "WARNING:tensorflow:`epsilon` argument is deprecated and will be removed, use `min_delta` instead.\n"
     ]
    }
   ],
   "source": [
    "model_name = 'Gesture_recog' + '_' + str(curr_dt_time).replace(' ','').replace(':','_') + '/'\n",
    "    \n",
    "if not os.path.exists(model_name):\n",
    "    os.mkdir(model_name)\n",
    "        \n",
    "filepath = model_name + 'model-{epoch:05d}-{loss:.5f}-{categorical_accuracy:.5f}-{val_loss:.5f}-{val_categorical_accuracy:.5f}.h5'\n",
    "\n",
    "checkpoint = ModelCheckpoint(filepath, monitor='val_loss', verbose=1, save_best_only=False, save_weights_only=False, mode='auto', period=1)\n",
    "\n",
    "LR = ReduceLROnPlateau(monitor = \"val_loss\", factor = 0.1, patience = 10,\n",
    "  verbose = 0, mode = \"auto\", epsilon = 1e-04, cooldown = 0,\n",
    "  min_lr = 0)\n",
    "callbacks_list = [checkpoint, LR]"
   ]
  },
  {
   "cell_type": "code",
   "execution_count": 16,
   "metadata": {},
   "outputs": [],
   "source": [
    "if (num_train_sequences%batch_size) == 0:\n",
    "    steps_per_epoch = int(num_train_sequences/batch_size)\n",
    "else:\n",
    "    steps_per_epoch = (num_train_sequences//batch_size) + 1\n",
    "\n",
    "if (num_val_sequences%batch_size) == 0:\n",
    "    validation_steps = int(num_val_sequences/batch_size)\n",
    "else:\n",
    "    validation_steps = (num_val_sequences//batch_size) + 1"
   ]
  },
  {
   "cell_type": "code",
   "execution_count": 17,
   "metadata": {},
   "outputs": [
    {
     "name": "stdout",
     "output_type": "stream",
     "text": [
      "Source path =  /home/datasets/Project_data/train ; batch size = 51\n",
      "Epoch 1/15\n"
     ]
    },
    {
     "name": "stderr",
     "output_type": "stream",
     "text": [
      "/tmp/ipykernel_1177/385748685.py:1: UserWarning: `Model.fit_generator` is deprecated and will be removed in a future version. Please use `Model.fit`, which supports generators.\n",
      "  model.fit_generator(train_generator, steps_per_epoch=steps_per_epoch, epochs=num_epochs, verbose=1,\n"
     ]
    },
    {
     "name": "stdout",
     "output_type": "stream",
     "text": [
      "13/13 [==============================] - ETA: 0s - loss: 1.6178 - categorical_accuracy: 0.1538Source path =  /home/datasets/Project_data/val ; batch size = 51\n",
      "\n",
      "Epoch 00001: saving model to Gesture_recog_2022-07-0910_57_50.570615/model-00001-1.61783-0.15385-1.59607-0.00000.h5\n",
      "13/13 [==============================] - 17s 1s/step - loss: 1.6178 - categorical_accuracy: 0.1538 - val_loss: 1.5961 - val_categorical_accuracy: 0.0000e+00 - lr: 0.0100\n",
      "Epoch 2/15\n",
      "13/13 [==============================] - ETA: 0s - loss: 1.6220 - categorical_accuracy: 0.0000e+00\n",
      "Epoch 00002: saving model to Gesture_recog_2022-07-0910_57_50.570615/model-00002-1.62197-0.00000-1.61514-0.00000.h5\n",
      "13/13 [==============================] - 14s 1s/step - loss: 1.6220 - categorical_accuracy: 0.0000e+00 - val_loss: 1.6151 - val_categorical_accuracy: 0.0000e+00 - lr: 0.0100\n",
      "Epoch 3/15\n",
      "13/13 [==============================] - ETA: 0s - loss: 1.6168 - categorical_accuracy: 0.1579\n",
      "Epoch 00003: saving model to Gesture_recog_2022-07-0910_57_50.570615/model-00003-1.61681-0.15789-1.57910-0.50000.h5\n",
      "13/13 [==============================] - 20s 2s/step - loss: 1.6168 - categorical_accuracy: 0.1579 - val_loss: 1.5791 - val_categorical_accuracy: 0.5000 - lr: 0.0100\n",
      "Epoch 4/15\n",
      "13/13 [==============================] - ETA: 0s - loss: 1.5997 - categorical_accuracy: 0.2692\n",
      "Epoch 00004: saving model to Gesture_recog_2022-07-0910_57_50.570615/model-00004-1.59971-0.26923-1.62931-0.00000.h5\n",
      "13/13 [==============================] - 30s 2s/step - loss: 1.5997 - categorical_accuracy: 0.2692 - val_loss: 1.6293 - val_categorical_accuracy: 0.0000e+00 - lr: 0.0100\n",
      "Epoch 5/15\n",
      "13/13 [==============================] - ETA: 0s - loss: 1.5834 - categorical_accuracy: 0.3846\n",
      "Epoch 00005: saving model to Gesture_recog_2022-07-0910_57_50.570615/model-00005-1.58336-0.38462-1.61092-0.50000.h5\n",
      "13/13 [==============================] - 30s 2s/step - loss: 1.5834 - categorical_accuracy: 0.3846 - val_loss: 1.6109 - val_categorical_accuracy: 0.5000 - lr: 0.0100\n",
      "Epoch 6/15\n",
      "13/13 [==============================] - ETA: 0s - loss: 1.5943 - categorical_accuracy: 0.2692\n",
      "Epoch 00006: saving model to Gesture_recog_2022-07-0910_57_50.570615/model-00006-1.59433-0.26923-1.76218-0.00000.h5\n",
      "13/13 [==============================] - 27s 2s/step - loss: 1.5943 - categorical_accuracy: 0.2692 - val_loss: 1.7622 - val_categorical_accuracy: 0.0000e+00 - lr: 0.0100\n",
      "Epoch 7/15\n",
      "13/13 [==============================] - ETA: 0s - loss: 1.6486 - categorical_accuracy: 0.0769\n",
      "Epoch 00007: saving model to Gesture_recog_2022-07-0910_57_50.570615/model-00007-1.64865-0.07692-1.66576-0.00000.h5\n",
      "13/13 [==============================] - 29s 2s/step - loss: 1.6486 - categorical_accuracy: 0.0769 - val_loss: 1.6658 - val_categorical_accuracy: 0.0000e+00 - lr: 0.0100\n",
      "Epoch 8/15\n",
      "13/13 [==============================] - ETA: 0s - loss: 1.6283 - categorical_accuracy: 0.1923\n",
      "Epoch 00008: saving model to Gesture_recog_2022-07-0910_57_50.570615/model-00008-1.62828-0.19231-1.65380-0.00000.h5\n",
      "13/13 [==============================] - 28s 2s/step - loss: 1.6283 - categorical_accuracy: 0.1923 - val_loss: 1.6538 - val_categorical_accuracy: 0.0000e+00 - lr: 0.0100\n",
      "Epoch 9/15\n",
      "13/13 [==============================] - ETA: 0s - loss: 1.6088 - categorical_accuracy: 0.2692\n",
      "Epoch 00009: saving model to Gesture_recog_2022-07-0910_57_50.570615/model-00009-1.60878-0.26923-1.61826-0.00000.h5\n",
      "13/13 [==============================] - 29s 2s/step - loss: 1.6088 - categorical_accuracy: 0.2692 - val_loss: 1.6183 - val_categorical_accuracy: 0.0000e+00 - lr: 0.0100\n",
      "Epoch 10/15\n",
      "13/13 [==============================] - ETA: 0s - loss: 1.6254 - categorical_accuracy: 0.1538\n",
      "Epoch 00010: saving model to Gesture_recog_2022-07-0910_57_50.570615/model-00010-1.62543-0.15385-1.63789-0.00000.h5\n",
      "13/13 [==============================] - 27s 2s/step - loss: 1.6254 - categorical_accuracy: 0.1538 - val_loss: 1.6379 - val_categorical_accuracy: 0.0000e+00 - lr: 0.0100\n",
      "Epoch 11/15\n",
      "13/13 [==============================] - ETA: 0s - loss: 1.6032 - categorical_accuracy: 0.3077\n",
      "Epoch 00011: saving model to Gesture_recog_2022-07-0910_57_50.570615/model-00011-1.60316-0.30769-1.64590-0.00000.h5\n",
      "13/13 [==============================] - 28s 2s/step - loss: 1.6032 - categorical_accuracy: 0.3077 - val_loss: 1.6459 - val_categorical_accuracy: 0.0000e+00 - lr: 0.0100\n",
      "Epoch 12/15\n",
      "13/13 [==============================] - ETA: 0s - loss: 1.6138 - categorical_accuracy: 0.2308\n",
      "Epoch 00012: saving model to Gesture_recog_2022-07-0910_57_50.570615/model-00012-1.61383-0.23077-1.53093-0.75000.h5\n",
      "13/13 [==============================] - 29s 2s/step - loss: 1.6138 - categorical_accuracy: 0.2308 - val_loss: 1.5309 - val_categorical_accuracy: 0.7500 - lr: 0.0100\n",
      "Epoch 13/15\n",
      "13/13 [==============================] - ETA: 0s - loss: 1.6119 - categorical_accuracy: 0.2308\n",
      "Epoch 00013: saving model to Gesture_recog_2022-07-0910_57_50.570615/model-00013-1.61194-0.23077-1.57087-0.50000.h5\n",
      "13/13 [==============================] - 28s 2s/step - loss: 1.6119 - categorical_accuracy: 0.2308 - val_loss: 1.5709 - val_categorical_accuracy: 0.5000 - lr: 0.0100\n",
      "Epoch 14/15\n",
      "13/13 [==============================] - ETA: 0s - loss: 1.6098 - categorical_accuracy: 0.1923\n",
      "Epoch 00014: saving model to Gesture_recog_2022-07-0910_57_50.570615/model-00014-1.60985-0.19231-1.61673-0.25000.h5\n",
      "13/13 [==============================] - 29s 2s/step - loss: 1.6098 - categorical_accuracy: 0.1923 - val_loss: 1.6167 - val_categorical_accuracy: 0.2500 - lr: 0.0100\n",
      "Epoch 15/15\n",
      "13/13 [==============================] - ETA: 0s - loss: 1.6194 - categorical_accuracy: 0.0769\n",
      "Epoch 00015: saving model to Gesture_recog_2022-07-0910_57_50.570615/model-00015-1.61942-0.07692-1.60398-0.50000.h5\n",
      "13/13 [==============================] - 29s 2s/step - loss: 1.6194 - categorical_accuracy: 0.0769 - val_loss: 1.6040 - val_categorical_accuracy: 0.5000 - lr: 0.0100\n"
     ]
    },
    {
     "data": {
      "text/plain": [
       "<keras.callbacks.History at 0x7fd3aa794c70>"
      ]
     },
     "execution_count": 17,
     "metadata": {},
     "output_type": "execute_result"
    }
   ],
   "source": [
    "model.fit_generator(train_generator, steps_per_epoch=steps_per_epoch, epochs=num_epochs, verbose=1, \n",
    "                    callbacks=callbacks_list, validation_data=val_generator, \n",
    "                    validation_steps=validation_steps, class_weight=None, workers=1, initial_epoch=0)"
   ]
  },
  {
   "cell_type": "code",
   "execution_count": null,
   "metadata": {},
   "outputs": [],
   "source": []
  },
  {
   "cell_type": "code",
   "execution_count": null,
   "metadata": {},
   "outputs": [],
   "source": []
  }
 ],
 "metadata": {
  "kernelspec": {
   "display_name": "Python 3 (ipykernel)",
   "language": "python",
   "name": "python3"
  },
  "language_info": {
   "codemirror_mode": {
    "name": "ipython",
    "version": 3
   },
   "file_extension": ".py",
   "mimetype": "text/x-python",
   "name": "python",
   "nbconvert_exporter": "python",
   "pygments_lexer": "ipython3",
   "version": "3.8.10"
  }
 },
 "nbformat": 4,
 "nbformat_minor": 4
}
